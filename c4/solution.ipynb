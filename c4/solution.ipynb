{
 "cells": [
  {
   "cell_type": "markdown",
   "metadata": {},
   "source": [
    "# Solution"
   ]
  },
  {
   "cell_type": "markdown",
   "metadata": {},
   "source": [
    "# 4.7\n",
    "\n",
    "$$Pr(X \\geq (1 + \\delta) \\mu_H) = Pr(e^{tX} \\geq e^{t(1+\\delta)\\mu_H}) \\leq \\frac{E[e^{tX}]}{e^{t(1+\\delta)\\mu_H}} = \\frac{e^{(e^t-1)\\mu}}{e^{t(1+\\delta)\\mu_H}}$$. Let $t=ln(1+\\delta)$, then\n",
    "$$Pr(X \\geq (1 + \\delta) \\mu_H) \\leq \\frac{e^{(e^t-1)\\mu}}{e^{t(1+\\delta)\\mu_H}} = \\frac{e^{\\delta\\mu}}{(1+\\delta)^{(1+\\delta)\\mu_H}} \\leq \\frac{e^{\\delta\\mu_H}}{(1+\\delta)^{(1+\\delta)\\mu_H}} = \\frac{e^{\\delta}}{(1+\\delta)^{(1+\\delta)\\mu_H}}$$"
   ]
  },
  {
   "cell_type": "code",
   "execution_count": null,
   "metadata": {
    "collapsed": true
   },
   "outputs": [],
   "source": []
  }
 ],
 "metadata": {
  "kernelspec": {
   "display_name": "Python [default]",
   "language": "python",
   "name": "python3"
  },
  "language_info": {
   "codemirror_mode": {
    "name": "ipython",
    "version": 3
   },
   "file_extension": ".py",
   "mimetype": "text/x-python",
   "name": "python",
   "nbconvert_exporter": "python",
   "pygments_lexer": "ipython3",
   "version": "3.6.2"
  }
 },
 "nbformat": 4,
 "nbformat_minor": 2
}
