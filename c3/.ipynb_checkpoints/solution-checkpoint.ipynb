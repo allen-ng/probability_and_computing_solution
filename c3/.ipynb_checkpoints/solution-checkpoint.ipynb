{
 "cells": [
  {
   "cell_type": "markdown",
   "metadata": {},
   "source": [
    "# Solution"
   ]
  },
  {
   "cell_type": "markdown",
   "metadata": {},
   "source": [
    "# 3.14\n",
    "$$Var\\left [ \\sum_{i=1}^n X_i \\right ] = E\\left [ \\left(\\sum_{i=1}^n X_i - E\\left[\\sum_{i=1}^n X_i\\right]\\right)^2 \\right ] \\\\ = E\\left[ \\left ( \\sum_{i=1}^n (X_i - E[X_i]) \\right )^2\\right ] = E\\left[ \\sum_{i=1}^n (X_i - E[X_i])^2 + 2\\sum_{i=1}^n\\sum_{j=i+1}^n(X_i-E[X_i])(X_j - E[X_j]) \\right ] = \\sum_{i=1}^nVar[X_i] + \\mathop{\\sum\\sum}_{i < j} Cov(X_i, X_j) $$"
   ]
  },
  {
   "cell_type": "markdown",
   "metadata": {},
   "source": [
    "# 3.16\n",
    "The markov's inequality gives the bound that a nonnegative variable $X$ with expectation $E[X]$ has the following bound:\n",
    "$$Pr(X \\geqslant kE[X]) \\leqslant \\frac{E[X]}{kE[X]} = \\frac{1}{k}$$\n",
    "\n",
    "Then if $Pr(X \\geqslant kE[X]) \\geqslant \\frac{1}{k}$, $$E[X] \\geqslant kE[X] \\times Pr(X \\geqslant kE[X]) \\geqslant kE[X] \\times \\frac{1}{k} = E[X]$$\n",
    "\n",
    "The leftmost inequality comes from Markov's inequality. Hence the markov bound is tight."
   ]
  },
  {
   "cell_type": "markdown",
   "metadata": {},
   "source": [
    "## 3.18\n",
    "\n",
    "(a) \n",
    "\n",
    "(b) According to chebyshev's inequality:\n",
    "$$Pr(|X-E[X]| \\geq t\\sigma[X]) \\leq \\frac{Var[X]}{t^2 \\sigma[X]^2} = \\frac{1}{t^2}$$\n",
    "If $t \\geq 1$, \n",
    "$$\\frac{1}{t^2} - \\frac{2}{1+t^2} = \\frac{1-t^2}{t^2(1+t^2)} \\leq 0.$$\n",
    "This means the chebyshev's inequality provides a tighter bound.\n",
    "\n",
    "If $t < 1$,\n",
    "$$\\frac{2}{1+t^2} > 1,$$ so the inequality is trivial.\n"
   ]
  },
  {
   "cell_type": "markdown",
   "metadata": {},
   "source": [
    "## 3.19\n",
    "\n",
    "Using result from 3.18 (a), let's take $t=1$, then:\n",
    "$$Pr(X - E[X] \\geq \\sigma) = Pr(X \\geq \\sigma + E[X]) \\leq \\frac{1}{2}$$\n",
    "However, \n",
    "$$Pr(X \\geq m) \\geq \\frac{1}{2}.$$\n",
    "Thus,\n",
    "$$\\sigma + E[X] \\geq m.$$\n",
    "\n",
    "And since:\n",
    "$$Pr(X \\leq E[X] - \\sigma) + Pr(X \\geq E[X] + \\sigma) \\leq 1,$$\n",
    "So\n",
    "$$Pr(X \\leq E[X] - \\sigma) \\leq 1 - Pr(X \\geq E[X] + \\sigma) \\leq \\frac{1}{2},$$\n",
    "$$Pr(X \\leq m) \\geq \\frac{1}{2}.$$\n",
    "And thus,\n",
    "$$m \\geq E[X] - \\sigma$$\n",
    "Combine the two conclusion:\n",
    "$$\n",
    "\\begin{alignat*}{3}\n",
    " \\ & E[X] - \\sigma \\leq m && \\leq \\sigma + E[X] \\\\\n",
    "\\Leftrightarrow & \\ \\left |m - E[X] \\right | && \\leq \\sigma \\\\\n",
    "\\Leftrightarrow & \\ \\left |\\mu - m \\right | && \\leq \\sigma\n",
    "\\end{alignat*}\n",
    "$$"
   ]
  },
  {
   "cell_type": "code",
   "execution_count": null,
   "metadata": {
    "collapsed": true
   },
   "outputs": [],
   "source": []
  }
 ],
 "metadata": {
  "kernelspec": {
   "display_name": "Python [default]",
   "language": "python",
   "name": "python3"
  },
  "language_info": {
   "codemirror_mode": {
    "name": "ipython",
    "version": 3
   },
   "file_extension": ".py",
   "mimetype": "text/x-python",
   "name": "python",
   "nbconvert_exporter": "python",
   "pygments_lexer": "ipython3",
   "version": "3.6.2"
  }
 },
 "nbformat": 4,
 "nbformat_minor": 2
}
