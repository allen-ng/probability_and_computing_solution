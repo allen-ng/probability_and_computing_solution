{
 "cells": [
  {
   "cell_type": "markdown",
   "metadata": {},
   "source": [
    "# Solutions"
   ]
  },
  {
   "cell_type": "markdown",
   "metadata": {},
   "source": [
    "### 2.18\n",
    "\n",
    "Let $E_i$ be the event that i-th item is kept in the memory after $n$ items $(n \\geqslant i \\geqslant 1)$ have passed.\n",
    "\n",
    "Then $$Pr(E_i) = \\frac{1}{i} \\times \\prod_{j=i+1}^n(1 - \\frac{1}{j})$$,\n",
    "which is the probability that the i-th item replaces the old one times the probability that it is kept for the following rounds.\n",
    "\n",
    "Expanding this product we get:\n",
    "$$Pr(E_i) = \\frac{1}{i} \\times \\frac{i}{i+1} \\frac{i+1}{i+2} ... \\frac{n-1}{n} = \\frac{1}{n}$$."
   ]
  },
  {
   "cell_type": "code",
   "execution_count": null,
   "metadata": {
    "collapsed": true
   },
   "outputs": [],
   "source": []
  }
 ],
 "metadata": {
  "kernelspec": {
   "display_name": "Python [conda env:ml]",
   "language": "python",
   "name": "conda-env-ml-py"
  },
  "language_info": {
   "codemirror_mode": {
    "name": "ipython",
    "version": 3
   },
   "file_extension": ".py",
   "mimetype": "text/x-python",
   "name": "python",
   "nbconvert_exporter": "python",
   "pygments_lexer": "ipython3",
   "version": "3.6.0"
  }
 },
 "nbformat": 4,
 "nbformat_minor": 2
}
