{
 "cells": [
  {
   "cell_type": "markdown",
   "metadata": {},
   "source": [
    "# Notes"
   ]
  },
  {
   "cell_type": "markdown",
   "metadata": {},
   "source": [
    "Throw m balls into n bins, the number of balls in one bins is subject to discrete Poisson Distribution with parameter equals $\\mu = \\frac{m}{n}$"
   ]
  },
  {
   "cell_type": "markdown",
   "metadata": {},
   "source": [
    "# Solution"
   ]
  },
  {
   "cell_type": "markdown",
   "metadata": {},
   "source": [
    "# 5.5\n",
    "Given:\n",
    "$$M_x(t) = e^{\\mu(e^t-1)}$$\n",
    "\n",
    "Since $$E[X^2e^{tX}] = \\frac{d^2 M_x(t)}{dt^2} = \\mu(e^{t+\\mu(e^t-1)})(1+\\mu e^t)$$\n",
    "Take t to be 0 and we got $$E[X^2] = \\mu(1 + \\mu)$$\n",
    "\n",
    "$$Var[X] = E[X^2] - (E[X])^2 = \\mu (\\mu + 1) - (\\mu)^2 = \\mu$$"
   ]
  },
  {
   "cell_type": "code",
   "execution_count": null,
   "metadata": {
    "collapsed": true
   },
   "outputs": [],
   "source": []
  }
 ],
 "metadata": {
  "kernelspec": {
   "display_name": "Python [default]",
   "language": "python",
   "name": "python3"
  },
  "language_info": {
   "codemirror_mode": {
    "name": "ipython",
    "version": 3
   },
   "file_extension": ".py",
   "mimetype": "text/x-python",
   "name": "python",
   "nbconvert_exporter": "python",
   "pygments_lexer": "ipython3",
   "version": "3.6.2"
  }
 },
 "nbformat": 4,
 "nbformat_minor": 2
}
